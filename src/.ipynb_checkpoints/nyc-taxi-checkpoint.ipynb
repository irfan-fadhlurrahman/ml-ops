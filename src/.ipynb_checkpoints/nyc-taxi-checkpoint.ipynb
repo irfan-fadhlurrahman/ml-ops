{
 "cells": [
  {
   "cell_type": "markdown",
   "id": "597aabfc-1c80-4c44-8844-f6b9f2fa4222",
   "metadata": {},
   "source": [
    "# TLC Trip Record Data"
   ]
  },
  {
   "cell_type": "markdown",
   "id": "871d0756-211a-4204-a147-695330006916",
   "metadata": {},
   "source": [
    "## Objective\n",
    "To predict the ride duration based on the various data from customers. For practice purpose, I will build simple model to use for practice basic MLOps."
   ]
  },
  {
   "cell_type": "markdown",
   "id": "59caa929-6b8e-4d24-b3cb-4ac6cd8b92d8",
   "metadata": {},
   "source": [
    "## Data source\n",
    "The dataset can be downloaded in [here](https://www1.nyc.gov/site/tlc/about/tlc-trip-record-data.page).\n",
    "For data dictionary, it can be found in [here](https://www1.nyc.gov/assets/tlc/downloads/pdf/data_dictionary_trip_records_green.pdf).\n"
   ]
  },
  {
   "cell_type": "code",
   "execution_count": 1,
   "id": "76845a65-cec3-4f6a-8373-15821cbf71c0",
   "metadata": {},
   "outputs": [
    {
     "name": "stdout",
     "output_type": "stream",
     "text": [
      "Python 3.9.7\n"
     ]
    }
   ],
   "source": [
    "!python -V"
   ]
  },
  {
   "cell_type": "code",
   "execution_count": 46,
   "id": "77aef39a-06ab-47ec-8024-9b773183b38f",
   "metadata": {},
   "outputs": [
    {
     "name": "stdout",
     "output_type": "stream",
     "text": [
      "RMSE of validation sets (subset of train sets): 5.529\n",
      "RMSE of validation sets (Feb 2022 data): 5.904\n"
     ]
    },
    {
     "data": {
      "text/html": [
       "<div>\n",
       "<style scoped>\n",
       "    .dataframe tbody tr th:only-of-type {\n",
       "        vertical-align: middle;\n",
       "    }\n",
       "\n",
       "    .dataframe tbody tr th {\n",
       "        vertical-align: top;\n",
       "    }\n",
       "\n",
       "    .dataframe thead th {\n",
       "        text-align: right;\n",
       "    }\n",
       "</style>\n",
       "<table border=\"1\" class=\"dataframe\">\n",
       "  <thead>\n",
       "    <tr style=\"text-align: right;\">\n",
       "      <th></th>\n",
       "      <th>trip_distance</th>\n",
       "      <th>fare_amount</th>\n",
       "      <th>duration</th>\n",
       "      <th>prediction</th>\n",
       "    </tr>\n",
       "  </thead>\n",
       "  <tbody>\n",
       "    <tr>\n",
       "      <th>0</th>\n",
       "      <td>1.16</td>\n",
       "      <td>5.5</td>\n",
       "      <td>4.150000</td>\n",
       "      <td>8.001963</td>\n",
       "    </tr>\n",
       "    <tr>\n",
       "      <th>1</th>\n",
       "      <td>0.57</td>\n",
       "      <td>4.5</td>\n",
       "      <td>3.083333</td>\n",
       "      <td>7.241583</td>\n",
       "    </tr>\n",
       "    <tr>\n",
       "      <th>2</th>\n",
       "      <td>0.00</td>\n",
       "      <td>42.2</td>\n",
       "      <td>27.283333</td>\n",
       "      <td>35.907759</td>\n",
       "    </tr>\n",
       "    <tr>\n",
       "      <th>3</th>\n",
       "      <td>16.62</td>\n",
       "      <td>49.0</td>\n",
       "      <td>41.650000</td>\n",
       "      <td>41.078417</td>\n",
       "    </tr>\n",
       "    <tr>\n",
       "      <th>4</th>\n",
       "      <td>5.97</td>\n",
       "      <td>21.0</td>\n",
       "      <td>23.333333</td>\n",
       "      <td>19.787822</td>\n",
       "    </tr>\n",
       "  </tbody>\n",
       "</table>\n",
       "</div>"
      ],
      "text/plain": [
       "   trip_distance  fare_amount   duration  prediction\n",
       "0           1.16          5.5   4.150000    8.001963\n",
       "1           0.57          4.5   3.083333    7.241583\n",
       "2           0.00         42.2  27.283333   35.907759\n",
       "3          16.62         49.0  41.650000   41.078417\n",
       "4           5.97         21.0  23.333333   19.787822"
      ]
     },
     "metadata": {},
     "output_type": "display_data"
    },
    {
     "data": {
      "text/plain": [
       "<AxesSubplot:xlabel='duration', ylabel='Count'>"
      ]
     },
     "metadata": {},
     "output_type": "display_data"
    },
    {
     "data": {
      "text/plain": [
       "<AxesSubplot:xlabel='duration', ylabel='Count'>"
      ]
     },
     "metadata": {},
     "output_type": "display_data"
    },
    {
     "data": {
      "text/plain": [
       "(0.0, 60.0)"
      ]
     },
     "metadata": {},
     "output_type": "display_data"
    },
    {
     "data": {
      "image/png": "[encoded data removed]",
      "text/plain": [
       "<Figure size 432x288 with 1 Axes>"
      ]
     },
     "metadata": {
      "needs_background": "light"
     },
     "output_type": "display_data"
    }
   ],
   "source": [
    "import pandas as pd\n",
    "import numpy as np\n",
    "import matplotlib.pyplot as plt\n",
    "import seaborn as sns\n",
    "import inflection\n",
    "import joblib\n",
    "\n",
    "from sklearn.model_selection import train_test_split\n",
    "from sklearn.pipeline import make_pipeline\n",
    "from sklearn.preprocessing import MinMaxScaler\n",
    "from sklearn.linear_model import LinearRegression\n",
    "from sklearn.metrics import mean_squared_error\n",
    "\n",
    "SEED = 0\n",
    "\n",
    "def load_dataset(path):\n",
    "    \"\"\"\n",
    "    Return the dataset in pandas dataframe format with lowercase columns\n",
    "    and each column name seperated by underscore.\n",
    "    \n",
    "    Args:\n",
    "    * path, str: file directory or file link of dataset\n",
    "    \n",
    "    Output:\n",
    "    * pd.DataFrame\n",
    "    \n",
    "    Notes:\n",
    "    This function is used to read a parquet format.\n",
    "    If the format is not parquet, change the first line of code.\n",
    "    \n",
    "    \"\"\"\n",
    "    df = pd.read_parquet(path)\n",
    "    df.columns = [inflection.underscore(var) for var in list(df.columns)]    \n",
    "    return df\n",
    "\n",
    "def target_variable(df):\n",
    "    \"\"\"\n",
    "    Return the target variable, which in this case is ride duration in minutes.\n",
    "    duration = lpep_dropoff_datetime - lpep_pickup_datetime.\n",
    "    \n",
    "    Args:\n",
    "    * df, pd.DataFrame: the dataset\n",
    "    \n",
    "    Output:\n",
    "    * pd.DataFrame: contain the target variable\n",
    "    \n",
    "    Notes:\n",
    "    * For practice purpose, the ride duration to be used only in the range 1 to 60 minutes.\n",
    "    \"\"\"\n",
    "    df['duration'] = df['lpep_dropoff_datetime'] - df['lpep_pickup_datetime']\n",
    "    df['duration'] = df['duration'].dt.total_seconds() / 60\n",
    "    return df[(df['duration'] >= 1) & (df['duration'] <= 60) ]\n",
    "\n",
    "def dataset_summary(df):\n",
    "    \"\"\"\n",
    "    Return the following information from dataset:\n",
    "    variable name, number of unique value, pandas dtype, \n",
    "    number of missing values, percentage of missing values, \n",
    "    and list of unique values.\n",
    "    \n",
    "    Args:\n",
    "    * df, pd.DataFrame: the dataset\n",
    "    \n",
    "    Output:\n",
    "    * table, pd.DataFrame\n",
    "    \"\"\"\n",
    "    table = pd.DataFrame(\n",
    "                columns=['variable',\n",
    "                         'no_unique',\n",
    "                         'pandas_dtype',\n",
    "                         'missing_value',\n",
    "                         '%_missing_values',\n",
    "                         'unique_value'\n",
    "                ]\n",
    "    )\n",
    "\n",
    "    for i, var in enumerate(df.columns):\n",
    "        table.loc[i] = [var,\n",
    "                        df[var].nunique(),\n",
    "                        df[var].dtypes,\n",
    "                        df[var].isnull().sum(),\n",
    "                        df[var].isnull().sum() * 100 / df.shape[0],\n",
    "                        df[var].unique().tolist()\n",
    "        ]\n",
    "    return table\n",
    "\n",
    "def train_the_model(df, target='duration', test_size=0.2, seed=SEED):\n",
    "    \"\"\"\n",
    "    Return the saved model.\n",
    "    \n",
    "    Args:\n",
    "    * df, pd.DataFrame: the dataset\n",
    "    * target, str (optional): target variable, default value is 'duration'\n",
    "    * test_size, float (optional): fraction of test set size, default value is 0.2\n",
    "    * seed, int (optional): random number for reproducibility, default value is 0\n",
    "    \n",
    "    Output:\n",
    "    * rmse, float: model evaluation metric\n",
    "    \n",
    "    Notes:\n",
    "    * Only use two features such as trip_distance and fare_amount \n",
    "      and only use LinearRegression to build a model.\n",
    "    * The dataset are splitted into two sets with ratio 80% train and\n",
    "      20% validation sets.\n",
    "    \n",
    "    \"\"\"\n",
    "    X_train, X_val, y_train, y_val = train_test_split(\n",
    "        df[['trip_distance', 'fare_amount']],\n",
    "        df[target],\n",
    "        test_size=test_size,\n",
    "        random_state=seed\n",
    "    )\n",
    "    model = make_pipeline(\n",
    "        MinMaxScaler(),\n",
    "        LinearRegression()\n",
    "    )\n",
    "    model.fit(X_train, y_train)\n",
    "    \n",
    "    y_pred = model.predict(X_val)\n",
    "    rmse = mean_squared_error(y_val, y_pred, squared=False)\n",
    "    print(f\"RMSE of validation sets (subset of train sets): {rmse:.3f}\")\n",
    "    return model\n",
    "\n",
    "def save_the_model(model):\n",
    "    \"\"\"\n",
    "    Save the machine learning model that contains preprocessor and regressor/classifier.\n",
    "    \n",
    "    Args:\n",
    "    * model, .bin: model pipeline to predict unseen data later\n",
    "    \n",
    "    Output:\n",
    "    * None\n",
    "    \"\"\"\n",
    "    with open(\"../model/linear_regression.bin\", 'wb') as file_out:\n",
    "         joblib.dump(model, file_out)\n",
    "\n",
    "def load_the_model(path):\n",
    "    \"\"\"\n",
    "    Load the trained model from directory\n",
    "    \n",
    "    Args:\n",
    "    * path, str: trained model directory\n",
    "    \n",
    "    Output:\n",
    "    * model, ... : a loaded model\n",
    "    \"\"\"\n",
    "    with open(\"../model/linear_regression.bin\", 'rb') as file_in:\n",
    "         model = joblib.load(file_in)\n",
    "    \n",
    "    return model\n",
    "\n",
    "def main():\n",
    "    \"\"\"\n",
    "    Notes:\n",
    "    * Use data from Jan 2022 for training then use Feb 2022 data for validation.\n",
    "    \"\"\"\n",
    "    # load the dataset\n",
    "    train = load_dataset(\"../dataset/green_tripdata_2022-01.parquet\")\n",
    "    train = target_variable(train)\n",
    "    \n",
    "    val = load_dataset(\"../dataset/green_tripdata_2022-02.parquet\")\n",
    "    val = target_variable(val)\n",
    "\n",
    "    # train the model and save it\n",
    "    model = train_the_model(train, target='duration', test_size=0.2)\n",
    "    save_the_model(model)\n",
    "\n",
    "    # test the trained model to unseen data \n",
    "    # note: actually 'unseen_data' is not real unseen data, to be updated later\n",
    "    trained_model = load_the_model(\"../model/linear_regression.bin\")\n",
    "    unseen_data = val[[\"trip_distance\", \"fare_amount\", \"duration\"]].copy()\n",
    "    \n",
    "    features = unseen_data.drop(\"duration\", axis=1)\n",
    "    unseen_data['prediction'] = trained_model.predict(features)\n",
    "    rmse = mean_squared_error(unseen_data['duration'], unseen_data['prediction'], squared=False)\n",
    "    print(f\"RMSE of validation sets (Feb 2022 data): {rmse:.3f}\")\n",
    "\n",
    "    display(\n",
    "        unseen_data.head(),\n",
    "        sns.histplot(data=unseen_data, x='duration', kde=True, palette=\"DADADA\"),\n",
    "        sns.histplot(data=unseen_data, x='prediction', kde=True, palette=\"1F1F1F\"),\n",
    "        plt.xlim([0, 60]),\n",
    "    )\n",
    "    \n",
    "main()"
   ]
  }
 ],
 "metadata": {
  "kernelspec": {
   "display_name": "Python 3 (ipykernel)",
   "language": "python",
   "name": "python3"
  },
  "language_info": {
   "codemirror_mode": {
    "name": "ipython",
    "version": 3
   },
   "file_extension": ".py",
   "mimetype": "text/x-python",
   "name": "python",
   "nbconvert_exporter": "python",
   "pygments_lexer": "ipython3",
   "version": "3.9.7"
  }
 },
 "nbformat": 4,
 "nbformat_minor": 5
}
