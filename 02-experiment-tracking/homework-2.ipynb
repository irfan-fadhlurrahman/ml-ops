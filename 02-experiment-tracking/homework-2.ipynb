{
 "cells": [
  {
   "cell_type": "markdown",
   "id": "b3f452c4-6e2e-458b-8483-268564ea9d6e",
   "metadata": {},
   "source": [
    "## Homework\n",
    "The goal of this homework is to get familiar with MLflow."
   ]
  },
  {
   "cell_type": "markdown",
   "id": "de7b66a0-12b2-4dae-9206-77d463390a5f",
   "metadata": {
    "tags": []
   },
   "source": [
    "## Q1. Install MLflow\n",
    "To get started with MLflow you'll need to install the MLflow Python package.\n",
    "\n",
    "For this we recommend creating a separate Python environment, for example, you can use conda environments, and then install the package there with pip or conda.\n",
    "\n",
    "Once you installed the package, run the command mlflow --version and check the output.\n",
    "\n",
    "What's the version that you have?"
   ]
  },
  {
   "cell_type": "code",
   "execution_count": 1,
   "id": "6912c8cd-db7a-461d-a166-1b3286537798",
   "metadata": {},
   "outputs": [
    {
     "name": "stdout",
     "output_type": "stream",
     "text": [
      "mlflow, version 1.26.0\n"
     ]
    }
   ],
   "source": [
    "!mlflow --version"
   ]
  },
  {
   "cell_type": "markdown",
   "id": "6f951565-44ba-4408-804f-eb16f5ae7db5",
   "metadata": {},
   "source": [
    "## Q2. Download and preprocess the data\n",
    "We'll use the Green Taxi Trip Records dataset.\n",
    "\n",
    "Download the data for January, February and March 2021 in parquet format from [here](https://www1.nyc.gov/site/tlc/about/tlc-trip-record-data.page).\n",
    "\n",
    "Use the script `preprocess_data.py` located in the folder homework to preprocess the data.\n",
    "\n",
    "The script will\n",
    "\n",
    "* load the data from the folder `<TAXI_DATA_FOLDER>` (the folder where you have downloaded the data),\n",
    "* fit a `DictVectorizer` on the training set (January 2021 data),\n",
    "* save the preprocessed datasets and the model to disk\n",
    "\n",
    "Your task is to download the datasets and then execute this command:\n",
    "\n",
    "```python preprocess_data.py --raw_data_path <TAXI_DATA_FOLDER> --dest_path ./output```\n",
    "\n",
    "Tip: go to `02-experiment-tracking/homework/` folder before executing the command and change the value of <TAXI_DATA_FOLDER> to the location where you saved the data.\n",
    "\n",
    "How many files were saved to `OUTPUT_FOLDER`?\n",
    "\n",
    "* 1\n",
    "* 3\n",
    "* **4**\n",
    "* 7"
   ]
  },
  {
   "cell_type": "code",
   "execution_count": 2,
   "id": "65fbe5b4-9c8f-47d8-bd50-9fd6852eaeb2",
   "metadata": {},
   "outputs": [],
   "source": [
    "!python ~/ml-ops/02-experiment-tracking/scripts/preprocess_data.py --raw_data_path ~/ml-ops/dataset --dest_path ~/ml-ops/02-experiment-tracking/output"
   ]
  },
  {
   "cell_type": "code",
   "execution_count": 3,
   "id": "56cf87c5-2faa-4abf-bed8-ff176d0a62f7",
   "metadata": {},
   "outputs": [
    {
     "name": "stdout",
     "output_type": "stream",
     "text": [
      "dv.pkl\ttest.pkl  train.pkl  valid.pkl\n"
     ]
    }
   ],
   "source": [
    "!ls output"
   ]
  },
  {
   "cell_type": "markdown",
   "id": "26332129-4fb5-4604-b6c4-614dd423bf60",
   "metadata": {
    "tags": []
   },
   "source": [
    "## Q3. Train a model with autolog\n",
    "We will train a random forest regressor (from Scikit-Learn) on the taxi dataset.\n",
    "\n",
    "We have prepared the training script train.py for this exercise, which can be also found in the folder homework. The script will load the datasets produced by the previous step, train the model on the training set and finally calculate the RMSE on the validation set.\n",
    "\n",
    "Your task is to modify the script to enable autologging with MLflow, execute the script and then launch the MLflow UI to check that the experiment run was properly tracked.\n",
    "\n",
    "Tip 1: don't forget to wrap the training code with a with mlflow.start_run(): statement as we showed in the videos.\n",
    "\n",
    "Tip 2: don't modify the hyperparameters of the model to make sure that the training will finish quickly.\n",
    "\n",
    "How many parameters are automatically logged by MLflow?\n",
    "\n",
    "* 19\n",
    "* **17**\n",
    "* 10\n",
    "* 20"
   ]
  },
  {
   "cell_type": "code",
   "execution_count": 4,
   "id": "676f102d-13c0-460a-b726-58fe17dacee6",
   "metadata": {},
   "outputs": [
    {
     "name": "stdout",
     "output_type": "stream",
     "text": [
      "2022/05/31 07:26:19 INFO mlflow.tracking.fluent: Experiment with name 'random-forest-hyperopt' does not exist. Creating a new experiment.\n",
      "2022/05/31 07:26:20 INFO mlflow.tracking.fluent: Autologging successfully enabled for sklearn.\n",
      "2022/05/31 07:27:09 WARNING mlflow.utils.autologging_utils: MLflow autologging encountered a warning: \"/home/irfanfadh43/miniconda3/envs/ml-ops/lib/python3.9/site-packages/_distutils_hack/__init__.py:30: UserWarning: Setuptools is replacing distutils.\"\n"
     ]
    }
   ],
   "source": [
    "!python ~/ml-ops/02-experiment-tracking/scripts/train.py --data_path ~/ml-ops/02-experiment-tracking/output"
   ]
  },
  {
   "cell_type": "code",
   "execution_count": 5,
   "id": "bcd07820-06ca-4adb-9f23-27239d92235b",
   "metadata": {},
   "outputs": [],
   "source": [
    "# Parameters (17)\n",
    "# Name\tValue\n",
    "# bootstrap\tTrue\n",
    "# ccp_alpha\t0.0\n",
    "# criterion\tsquared_error\n",
    "# max_depth\t10\n",
    "# max_features\t1.0\n",
    "# max_leaf_nodes\tNone\n",
    "# max_samples\tNone\n",
    "# min_impurity_decrease\t0.0\n",
    "# min_samples_leaf\t1\n",
    "# min_samples_split\t2\n",
    "# min_weight_fraction_leaf\t0.0\n",
    "# n_estimators\t100\n",
    "# n_jobs\tNone\n",
    "# oob_score\tFalse\n",
    "# random_state\t0\n",
    "# verbose\t0\n",
    "# warm_start\tFalse"
   ]
  },
  {
   "cell_type": "markdown",
   "id": "b3947303-c148-43bc-8be2-4a674d8ae6a2",
   "metadata": {},
   "source": [
    "## Q4. Launch the tracking server locally\n",
    "\n",
    "We want to manage the entire lifecycle of our ML model. In this step, you'll need to launch a tracking server. This way we will also have access to the model registry.\n",
    "\n",
    "Your task is to\n",
    "\n",
    "* launch the tracking server on your local machine\n",
    "* select a SQLite db for the backend store and a folder called `artifacts` for the artifacts store\n",
    "\n",
    "You should keep the tracking server running to work on the next two exercises that use the server.\n",
    "\n",
    "In addition to `backend-store-uri`, what else do you need to pass to properly configure the server?\n",
    "\n",
    "* **`default-artifact-root`**\n",
    "* `serve-artifacts`\n",
    "* `artifacts-only`\n",
    "* `artifacts-destination`"
   ]
  },
  {
   "cell_type": "code",
   "execution_count": 6,
   "id": "6aaec506-0faa-485e-934d-4c343aa19d66",
   "metadata": {},
   "outputs": [],
   "source": [
    "# to store the artifacts and track the experiment, the following code will do so \n",
    "#!mlflow ui --backend-store-uri sqlite:///homework-2.db --default-artifact-root ~/ml-ops/02-experiment-tracking/artifacts"
   ]
  },
  {
   "cell_type": "markdown",
   "id": "8f07b950-2186-45a4-9e71-2364938180d7",
   "metadata": {},
   "source": [
    "## Q5. Tune the hyperparameters of the model\n",
    "\n",
    "Now let's try to reduce the validation error by tuning the hyperparameters of the random forest regressor using `hyperopt`.\n",
    "\n",
    "We have prepared the script `hpo.py` for this exercise.\n",
    "\n",
    "Your task is to modify the script `hpo.py` and make sure that the validation RMSE is logged to MLflow for each run of the hyperparameter optimization (you will need to add a few lines of code to the objective function) and run the script without passing any parameters.\n",
    "\n",
    "After that, open the MLflow UI and explore the runs from the experiment called `random-forest-hyperopt` to answer the question below.\n",
    "\n",
    "Important: don't use autologging for this exercise.\n",
    "\n",
    "The idea is to just log the information that you need to answer the question below, including:\n",
    "\n",
    "* the list of hyperparameters that are passed to the objective function during the optimization.\n",
    "* the RMSE obtained on the validation set (February 2021 data).\n",
    "\n",
    "What's the best validation RMSE that you got?\n",
    "\n",
    "* 6.128\n",
    "* **6.628**\n",
    "* 7.128\n",
    "* 7.628"
   ]
  },
  {
   "cell_type": "code",
   "execution_count": 7,
   "id": "4d815634-c31c-4a20-b633-4d5e3f3cf135",
   "metadata": {},
   "outputs": [
    {
     "name": "stdout",
     "output_type": "stream",
     "text": [
      "100%|█████████| 50/50 [15:31<00:00, 18.64s/trial, best loss: 6.6284257482044735]\n"
     ]
    }
   ],
   "source": [
    "!python ~/ml-ops/02-experiment-tracking/scripts/hpo.py --data_path ~/ml-ops/02-experiment-tracking/output"
   ]
  },
  {
   "cell_type": "markdown",
   "id": "e0110332-b6e3-473f-bd13-824ef96dfd60",
   "metadata": {},
   "source": [
    "## Q6. Promote the best model to the model registry\n",
    "The results from the hyperparameter optimization are quite good so we can assume that we are ready to test some of these models in production. In this exercise, you'll promote the best model to the model registry. We have prepared a script called `register_model.py`, which will check the results from the previous step and select the top 5 runs. After that, it will calculate the RMSE of those models on the test set (March 2021 data) and save the results to a new experiment called `random-forest-best-models`.\n",
    "\n",
    "Your task is to update the script `register_model.py` so that it selects the model with the lowest RMSE on the test set and registers it to the model registry.\n",
    "\n",
    "Tip 1: you can use the method search_runs from the MlflowClient to get the model with the lowest RMSE. \n",
    "\n",
    "Tip 2: to register the model you can use the method `mlflow.register_model` and you will need to pass the right `model_uri` in the form of a string that looks like this: `\"runs:/<RUN_ID>/model\"`, and the name of the model (make sure to choose a good one!).\n",
    "\n",
    "What is the test RMSE of the best model?\n",
    "\n",
    "* 6.1\n",
    "* **6.55**\n",
    "* 7.93\n",
    "* 15.1"
   ]
  },
  {
   "cell_type": "code",
   "execution_count": 8,
   "id": "b90c080b-6f14-42eb-a5dc-2abdb5834046",
   "metadata": {},
   "outputs": [
    {
     "name": "stdout",
     "output_type": "stream",
     "text": [
      "2022/05/31 07:42:53 INFO mlflow.tracking.fluent: Experiment with name 'random-forest-best-models' does not exist. Creating a new experiment.\n",
      "2022/05/31 07:43:28 WARNING mlflow.utils.autologging_utils: MLflow autologging encountered a warning: \"/home/irfanfadh43/miniconda3/envs/ml-ops/lib/python3.9/site-packages/_distutils_hack/__init__.py:30: UserWarning: Setuptools is replacing distutils.\"\n",
      "Successfully registered model 'best-rf-model'.\n",
      "2022/05/31 07:46:33 INFO mlflow.tracking._model_registry.client: Waiting up to 300 seconds for model version to finish creation.                     Model name: best-rf-model, version 1\n",
      "Created version '1' of model 'best-rf-model'.\n"
     ]
    }
   ],
   "source": [
    "!python ~/ml-ops/02-experiment-tracking/scripts/register_model.py"
   ]
  }
 ],
 "metadata": {
  "kernelspec": {
   "display_name": "Python 3 (ipykernel)",
   "language": "python",
   "name": "python3"
  },
  "language_info": {
   "codemirror_mode": {
    "name": "ipython",
    "version": 3
   },
   "file_extension": ".py",
   "mimetype": "text/x-python",
   "name": "python",
   "nbconvert_exporter": "python",
   "pygments_lexer": "ipython3",
   "version": "3.9.7"
  }
 },
 "nbformat": 4,
 "nbformat_minor": 5
}
