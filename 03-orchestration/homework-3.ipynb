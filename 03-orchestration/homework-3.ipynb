{
 "cells": [
  {
   "cell_type": "markdown",
   "id": "c703e3e8-d951-4c94-900a-ad9306985762",
   "metadata": {
    "tags": []
   },
   "source": [
    "## 3.6 Homework\n"
   ]
  },
  {
   "cell_type": "markdown",
   "id": "42f81668-bed7-4312-8662-edcb09727e75",
   "metadata": {},
   "source": [
    "\n",
    "The goal of this homework is to familiarize users with workflow orchestration. We start from the solution of homework 1. The notebook can be found below:\n",
    "\n",
    "https://github.com/DataTalksClub/mlops-zoomcamp/blob/main/01-intro/homework.ipynb\n",
    "\n",
    "This has already been converted to a script called `homework.py` in the `03-orchestration` folder of this repo. \n",
    "\n",
    "You will use the FHV dataset like in homework 1."
   ]
  },
  {
   "cell_type": "markdown",
   "id": "3dc7cb64-7152-4844-a8d6-dfa32dad9eb6",
   "metadata": {
    "tags": []
   },
   "source": [
    "## Motivation\n",
    "\n"
   ]
  },
  {
   "cell_type": "markdown",
   "id": "1acb2986-d782-44c3-a34f-113589b3ae17",
   "metadata": {},
   "source": [
    "We already have a model training script. Maybe a data scientist in your team handed it to you and your job is schedule the running of training script using a workflow orchestration - Prefect in this case. Below are the requirements. Do not implement them yet, we will do so in this exercise. Just understand the goal.\n",
    "\n",
    "1. The training flow will be run every month.\n",
    "2. The flow will take in a parameter called `date` which will be a datetime.\n",
    "    * a. `date` should default to `None`.\n",
    "    * b. If `date` is `None`, set `date` as the current day. Use the data from 2 months back as the training data and the data from the previous month as validation data.\n",
    "    * c. If `date` is passed, get 2 months before the `date` as the training data, and the previous month as validation data.\n",
    "    * d. As a concrete example, if the date passed is \"2021-03-15\", the training data should be \"fhv_tripdata_2021-01.parquet\" and the validation file will be \"fhv_trip_data_2021-02.parquet\".\n",
    "3. Save the model as \"model-{date}.bin\" where date is in `YYYY-MM-DD`. Note that `date` here is the value of the flow `parameter`. In practice, this setup makes it very easy to get the latest model to run predictions because you just need to get the most recent one.\n",
    "4. In this example we use a DictVectorizer. That is needed to run future data through our model. Save that as \"dv-{date}.b\". Similar to above, if the date is `2021-03-15`, the files output should be `model-2021-03-15.bin` and `dv-2021-03-15.b`.\n",
    "\n",
    "This convention is not strict in industry, and in practice, you will come up with your own system to manage these training pipeline runs. For example, if we wanted to train on the whole history instead of just one month, we'd need to allow for added parameterization and logic in our flow. If the data came in weekly instead of monthly, we might need a different naming convention. But these requirements are already a simple approximation of something you could use in production.\n",
    "\n",
    "On the deployment side, it's very easy to just pull in the latest data and predict it using the latest model and vectorizer files. Tools the MLFlow in the last chapter can simplify that process as well. This homework will focus more on the batch training.\n",
    "\n",
    "In order, this homework assignment will be about:\n",
    "\n",
    "1. Converting the script to a Flow.\n",
    "2. Changing the parameters to take in a `date`. Making this parameter dynamic.\n",
    "3. Scheduling a batch training job that outputs the latest model somewhere."
   ]
  },
  {
   "cell_type": "markdown",
   "id": "3edcd0ef-96c9-4726-b27e-8f7b41c51ca6",
   "metadata": {
    "tags": []
   },
   "source": [
    "\n",
    "## Setup\n"
   ]
  },
  {
   "cell_type": "markdown",
   "id": "66da45de-647f-4a01-a688-5974dc7debe6",
   "metadata": {},
   "source": [
    "You can use either local Prefect Orion or a VM hosted Prefect Orion instance for this. It shouldn't matter. Just note that if you use a VM hosted one, you will need to configure your local API to hit the VM.\n",
    "\n",
    "Video 3.4 of the course will give more detailed instructions if you been run it on a VM."
   ]
  },
  {
   "cell_type": "markdown",
   "id": "363bf46e-cc5d-4e4c-92c2-b73ad63e794c",
   "metadata": {
    "tags": []
   },
   "source": [
    "## Q1. Converting the script to a Prefect flow\n"
   ]
  },
  {
   "cell_type": "markdown",
   "id": "549ec766-d259-4f16-a39c-faec4c5fcf8e",
   "metadata": {},
   "source": [
    "\n",
    "If you want to follow the videos exactly, do:\n",
    "\n",
    "```bash\n",
    "pip install prefect==2.0b5\n",
    "```\n",
    "\n",
    "If you need Windows support, check [`windows.md`](windows.md) for installation instructions.\n",
    "\n",
    "The current script `homework.py` is a fully functional script as long as you already have `fhv_trip_data_2021-01.parquet` and `fhv_trip_data_2021-02.parquet` inside a `data` folder. You should be able to already run it using:\n",
    "\n",
    "```bash\n",
    "python homework.py\n",
    "```\n",
    "\n",
    "We want to bring this to workflow orchestration to add observability around it. The `main` function will be converted to a `flow` and the other functions will be `tasks`. After adding all of the decorators, there is actually one task that you will need to call `.result()` for inside the `flow` to get it to work. Which task is this?\n",
    "\n",
    "* `read_data`\n",
    "* `prepare_features`\n",
    "* **train_model**\n",
    "* `run_model`\n",
    "\n",
    "Important: change all `print` statements to use the Prefect logger. Using the `print` statement will not appear in the Prefect UI. You have to call `get_run_logger` at the start of the task to use it.\n"
   ]
  },
  {
   "cell_type": "markdown",
   "id": "5be2b38a-8b72-4313-b9c7-363eec224be5",
   "metadata": {},
   "source": [
    "Answers: **train_model**\n",
    "\n",
    "From my own experience, if there is a tuple in main fuction, it need .result() to store the tuple."
   ]
  },
  {
   "cell_type": "markdown",
   "id": "65089272-fdd5-429c-a0bb-1f76d900764a",
   "metadata": {
    "tags": []
   },
   "source": [
    "## Q2. Parameterizing the flow"
   ]
  },
  {
   "cell_type": "markdown",
   "id": "daf415e3-5609-483c-8b02-cf09facc70b8",
   "metadata": {},
   "source": [
    "\n",
    "\n",
    "Right now there are two parameters for `main()` called `train_path` and `val_path`. We want to change the flow function to accept `date` instead. `date` should then be passed to a task that gives both the `train_path` and `val_path` to use.\n",
    "\n",
    "It should look like this:\n",
    "\n",
    "```python\n",
    "@flow\n",
    "def main(date=None):\n",
    "    train_path, val_path = get_paths(date).result()\n",
    "    # rest of flow below\n",
    "```\n",
    "\n",
    "Where `get_paths` is a task that you have to implement. The specs for this are outlined in the motivation section. Listing them out again here:\n",
    "\n",
    "* a. The flow will take in a parameter called `date` which will be a datetime. `date` should default to `None`.\n",
    "* b. If `date` is `None`, use the current day. Use the data from 2 months back as the training data and the data from the previous month as validation data.\n",
    "* c. If a `date` value is supplied, get 2 months before the `date` as the training data, and the previous month as validation data.\n",
    "* d. As a concrete example, if the date passed is \"2021-03-15\", the training data should be \"fhv_tripdata_2021-01.parquet\" and the validation file will be \"fhv_trip_data_2021-02.parquet\".\n",
    "\n",
    "Because we have two files:\n",
    "\n",
    "* fhv_tripdata_2021-01.parquet\n",
    "* fhv_tripdata_2021-02.parquet\n",
    "\n",
    "Change the `main()` flow call to the following:\n",
    "\n",
    "```python\n",
    "main(date=\"2021-03-15\")\n",
    "```\n",
    "\n",
    "and it should use those files. This is a simplification for testing our homework.\n",
    "\n",
    "Recall the page from where we downloaded the For-Hire trip data.\n",
    "\n",
    "https://www1.nyc.gov/site/tlc/about/tlc-trip-record-data.page\n",
    "\n",
    "Download the relevant files needed to run the `main` flow if `date` is 2021-08-15.\n",
    "\n",
    "For example:\n",
    "\n",
    "```python\n",
    "main(date=\"2021-08-15\")\n",
    "```\n",
    "\n",
    "By setting up the logger from the previous step, we should see some logs about our training job. What is the validation MSE when running the flow with this date?\n",
    "\n",
    "Note you need to download the relevant files to run. Part of this question is understanding which files the flow should be looking for.\n",
    "\n",
    "The validation **RMSE** is:\n",
    "\n",
    "* **11.637**\n",
    "* 11.837\n",
    "* 12.037\n",
    "* 12.237\n"
   ]
  },
  {
   "cell_type": "markdown",
   "id": "67ce9843-72e1-4335-9b4f-8b53dfd86504",
   "metadata": {},
   "source": [
    "**Notes**: Due to the FHV data at 2021 June and July cannot be downloaded, I used 2021 Jan and Feb data.\n",
    "\n",
    "**Answer**: RMSE of validation data: 11.014"
   ]
  },
  {
   "cell_type": "markdown",
   "id": "be8d944f-9bb7-468a-96cc-8fd1ca413d68",
   "metadata": {},
   "source": [
    "**Output**"
   ]
  },
  {
   "cell_type": "markdown",
   "id": "c735ffd3-6106-4793-9c84-46c969d385a6",
   "metadata": {},
   "source": [
    "```\n",
    "09:38:04.241 | INFO    | prefect.engine - Created flow run 'quixotic-dolphin' for flow 'main'\n",
    "09:38:04.241 | INFO    | Flow run 'quixotic-dolphin' - Using task runner 'ConcurrentTaskRunner'\n",
    "09:38:04.558 | INFO    | Flow run 'quixotic-dolphin' - Created task run 'get_paths-6e696e34-0' for task 'get_paths'\n",
    "09:38:05.322 | INFO    | Task run 'get_paths-6e696e34-0' - Finished in state Completed()\n",
    "09:38:05.397 | INFO    | Flow run 'quixotic-dolphin' - Created task run 'read_dataframe-c80ba253-0' for task 'read_dataframe'\n",
    "09:38:05.608 | INFO    | Flow run 'quixotic-dolphin' - Created task run 'read_dataframe-c80ba253-1' for task 'read_dataframe'\n",
    "09:38:05.875 | INFO    | Flow run 'quixotic-dolphin' - Created task run 'preprocess_features-eacd9c4d-0' for task 'preprocess_features'\n",
    "09:38:17.055 | INFO    | Flow run 'quixotic-dolphin' - Created task run 'preprocess_features-eacd9c4d-1' for task 'preprocess_features'\n",
    "09:38:30.036 | INFO    | Task run 'read_dataframe-c80ba253-1' - Finished in state Completed()\n",
    "09:38:36.469 | INFO    | Task run 'read_dataframe-c80ba253-0' - Finished in state Completed()\n",
    "09:38:36.909 | INFO    | Task run 'preprocess_features-eacd9c4d-1' - The mean duration of validation is 20.707\n",
    "09:38:38.155 | INFO    | Flow run 'quixotic-dolphin' - Created task run 'train_model-7c866860-0' for task 'train_model'\n",
    "09:38:38.694 | INFO    | Task run 'preprocess_features-eacd9c4d-0' - The mean duration of training is 19.167\n",
    "09:39:32.274 | INFO    | Task run 'preprocess_features-eacd9c4d-0' - Finished in state Completed()\n",
    "09:39:42.154 | INFO    | Task run 'preprocess_features-eacd9c4d-1' - Finished in state Completed()\n",
    "09:41:00.399 | INFO    | Task run 'train_model-7c866860-0' - X_train size: (1109826, 525)\n",
    "09:41:00.406 | INFO    | Task run 'train_model-7c866860-0' - Dict Vectorizer has 525 features\n",
    "09:41:00.408 | INFO    | Task run 'train_model-7c866860-0' - RMSE of training data: 10.529\n",
    "09:41:01.189 | INFO    | Task run 'train_model-7c866860-0' - Finished in state Completed()\n",
    "09:41:01.286 | INFO    | Flow run 'quixotic-dolphin' - Created task run 'run_model-6559300c-0' for task 'run_model'\n",
    "09:41:32.790 | INFO    | Task run 'run_model-6559300c-0' - X_val size: (990113, 525)\n",
    "09:41:32.797 | INFO    | Task run 'run_model-6559300c-0' - Dict Vectorizer has 525 features\n",
    "09:41:32.805 | INFO    | Task run 'run_model-6559300c-0' - RMSE of validation data: 11.014\n",
    "09:41:33.361 | INFO    | Task run 'run_model-6559300c-0' - Finished in state Completed()\n",
    "09:42:20.962 | INFO    | Flow run 'quixotic-dolphin' - Finished in state Completed('All states completed.')\n",
    "```"
   ]
  },
  {
   "cell_type": "markdown",
   "id": "fe449621-6ec7-411a-b89b-3467b6e1ff18",
   "metadata": {
    "tags": []
   },
   "source": [
    "## Q3. Saving the model and artifacts"
   ]
  },
  {
   "cell_type": "markdown",
   "id": "97d9f3bf-6892-41fa-a58d-cf9abf18a6a3",
   "metadata": {},
   "source": [
    "At the moment, we are not saving the model and vectorizer for future use. You don't need a new task for this, you can just add it inside the `flow`. The requirements for filenames to save it as were mentioned in the Motivation section. They are pasted again here:\n",
    "\n",
    "* Save the model as \"model-{date}.bin\" where date is in `YYYY-MM-DD`. Note that `date` here is the value of the flow `parameter`. In practice, this setup makes it very easy to get the latest model to run predictions because you just need to get the most recent one.\n",
    "* In this example we use a DictVectorizer. That is needed to run future data through our model. Save that as \"dv-{date}.b\". Similar to above, if the date is `2021-03-15`, the files output should be `model-2021-03-15.bin` and `dv-2021-03-15.b`.\n",
    "\n",
    "By using this file name, during inference, we can just pull the latest model from our model directory and apply it. Assuming we already had a list of filenames:\n",
    "\n",
    "```python\n",
    "['model-2021-03-15.bin', 'model-2021-04-15.bin', 'model-2021-05-15.bin']\n",
    "```\n",
    "\n",
    "We could do something like `sorted(model_list, reverse=False)[0]` to get the filename of the latest file. This is the simplest way to consistently use the latest trained model for inference. Tools like MLFlow give us more control logic to use flows.\n",
    "\n",
    "What is the file size of the `DictVectorizer` that we trained when the `date` is 2021-08-15?\n",
    "\n",
    "* **13,000 bytes**\n",
    "* 23,000 bytes \n",
    "* 33,000 bytes \n",
    "* 43,000 bytes \n",
    "\n",
    "You can bring up the Orion UI and see the work you've been doing. If you are using local Orion, you can start the server with:\n",
    "\n",
    "```bash\n",
    "prefect orion start\n",
    "```\n",
    "\n",
    "You should be able to see previous Flow runs and the most recent successful runs. Navigate to some of them. Take time to explore the UI. The radar plot would be a good thing to share on social media if you participate in those posts."
   ]
  },
  {
   "cell_type": "markdown",
   "id": "631afa00-f02a-4fac-a75a-e86b5b61afc4",
   "metadata": {},
   "source": [
    "**Notes**: Due to the FHV data at 2021 June and July cannot be downloaded, I used 2021 Jan and Feb data.\n",
    "\n",
    "**Answer**: 13,000 bytes"
   ]
  },
  {
   "cell_type": "markdown",
   "id": "6c0f3d55-25ab-4011-b8db-c9552a797950",
   "metadata": {},
   "source": [
    "**Output**"
   ]
  },
  {
   "attachments": {
    "3b708c92-3fea-4665-b1f0-a7688c0857cf.png": {
     "image/png": "[encoded data removed]"
    }
   },
   "cell_type": "markdown",
   "id": "cbc267da-3987-4cfb-ac69-7b3e5e3645cc",
   "metadata": {},
   "source": [
    "![image.png](attachment:3b708c92-3fea-4665-b1f0-a7688c0857cf.png)"
   ]
  },
  {
   "cell_type": "markdown",
   "id": "eb855304-db25-470e-90d6-e243ae077c57",
   "metadata": {},
   "source": [
    "## Q4. Creating a deployment with a CronSchedule\n"
   ]
  },
  {
   "cell_type": "markdown",
   "id": "f971f8c5-20bf-41d5-9616-46835046f6ae",
   "metadata": {},
   "source": [
    "We previously showed the `IntervalSchedule` in the video tutorials. In some cases, the interval is too rigid. For example, what if we wanted to run this `flow` on the 15th of every month? An interval of 30 days would not be in sync. In cases like these, the `CronSchedule` is more appropriate. The documentation for that is [here](https://orion-docs.prefect.io/concepts/schedules/#cronschedule)\n",
    "\n",
    "Cron is an important part of workflow orchestration. It is used to schedule tasks, and was a predecessor for more mature orchestration frameworks. A lot of teams still use Cron in production. Even if you don't use Cron, the Cron expression is very common as a way to write a schedule, and the basics are worth learning for orchestration, even outside Prefect.\n",
    "\n",
    "For this exercise, use a `CronSchedule` when creating a Prefect deployment.\n",
    "\n",
    "What is the Cron expression to run a flow at 9 AM every 15th of the month?\n",
    "\n",
    "* `* * 15 9 0`\n",
    "* `9 15 * * *`\n",
    "* **`0 9 15 * *`**\n",
    "* `0 15 9 1 *`\n",
    "\n",
    "Hint: there are many Cron to English tools. Try looking for one to help you.\n",
    "\n",
    "Create a deployment with `prefect deployment create` after you write your `DeploymentSpec`"
   ]
  },
  {
   "cell_type": "markdown",
   "id": "a0d0540a-b7d2-4e8f-9ca0-08f604bf3fe3",
   "metadata": {},
   "source": [
    "**Notes**: Due to the FHV data at 2021 June and July cannot be downloaded, I used 2021 Jan and Feb data.\n",
    "\n",
    "**Answer**:  0 9 15 * *"
   ]
  },
  {
   "cell_type": "markdown",
   "id": "f1bba06d-cbe5-40c9-a725-7fed76b30e48",
   "metadata": {},
   "source": [
    "## Q5. Viewing the Deployment "
   ]
  },
  {
   "cell_type": "markdown",
   "id": "117c0148-f5ea-4b2b-9b3d-c799d321f792",
   "metadata": {},
   "source": [
    "View the deployment in the UI. When first loading, we may not see that many flows because the default filter is 1 day back and 1 day forward. Remove the filter for 1 day forward to see the scheduled runs. \n",
    "\n",
    "How many flow runs are scheduled by Prefect in advance? You should not be counting manually. There is a number of upcoming runs on the top right of the dashboard.\n",
    "\n",
    "* 0\n",
    "* **3**\n",
    "* 10\n",
    "* 25\n",
    "\n",
    "**Note:** Your answer may be off by 1. It's okay. Select the option closest to your answer."
   ]
  },
  {
   "cell_type": "markdown",
   "id": "5b2ff375-b51c-40d0-9b58-76f681d5bc5d",
   "metadata": {},
   "source": [
    "**Notes**: Due to the FHV data at 2021 June and July cannot be downloaded, I used 2021 Jan and Feb data.\n",
    "\n",
    "**Answer**: Actually 4"
   ]
  },
  {
   "cell_type": "markdown",
   "id": "bf1abfbc-f6ce-4f8e-9e12-c47f057e3f0e",
   "metadata": {
    "tags": []
   },
   "source": [
    "## Q6. Creating a work-queue"
   ]
  },
  {
   "cell_type": "markdown",
   "id": "2cdc7bf3-c952-4a46-a2c4-20ea0835de5c",
   "metadata": {},
   "source": [
    "In order to run this flow, you will need an agent and a work queue. Because we scheduled our flow on every month, it won't really get picked up by an agent. For this exercise, create a work-queue from the UI and view it using the CLI. \n",
    "\n",
    "For all CLI commands with Prefect, you can use `--help` to get more information. \n",
    "\n",
    "For example,\n",
    "\n",
    "* `prefect --help`\n",
    "* `prefect work-queue --help`\n",
    "\n",
    "What is the command to view the available work-queues?\n",
    "\n",
    "* `prefect work-queue inspect`\n",
    "* **`prefect work-queue ls`**\n",
    "* `prefect work-queue preview`\n",
    "* `prefect work-queue list`"
   ]
  },
  {
   "cell_type": "markdown",
   "id": "6524e33e-15de-49c5-94aa-33481a4ce489",
   "metadata": {},
   "source": [
    "**Notes**: Due to the FHV data at 2021 June and July cannot be downloaded, I used 2021 Jan and Feb data.\n",
    "\n",
    "**Answer**: \n",
    "\n",
    "```\n",
    "$ prefect work-queue ls\n",
    "                               Work Queues\n",
    "┏━━━━━━━━━━━━━━━━━━━━━━━━━━━━━━━━━━━━━━┳━━━━━━━━━━━━━┳━━━━━━━━━━━━━━━━━━━┓\n",
    "┃                                   ID ┃ Name        ┃ Concurrency Limit ┃\n",
    "┡━━━━━━━━━━━━━━━━━━━━━━━━━━━━━━━━━━━━━━╇━━━━━━━━━━━━━╇━━━━━━━━━━━━━━━━━━━┩\n",
    "│ 1fc86a16-e22f-4200-8421-9a6abfc5adf4 │ Global HW   │ None              │\n",
    "│ 9d6c401b-2c61-4057-bf36-abc0692cce26 │ Global (**) │ None              │\n",
    "└──────────────────────────────────────┴─────────────┴───────────────────┘\n",
    "                       (**) denotes a paused queue\n",
    "```"
   ]
  }
 ],
 "metadata": {
  "kernelspec": {
   "display_name": "Python 3 (ipykernel)",
   "language": "python",
   "name": "python3"
  },
  "language_info": {
   "codemirror_mode": {
    "name": "ipython",
    "version": 3
   },
   "file_extension": ".py",
   "mimetype": "text/x-python",
   "name": "python",
   "nbconvert_exporter": "python",
   "pygments_lexer": "ipython3",
   "version": "3.9.7"
  }
 },
 "nbformat": 4,
 "nbformat_minor": 5
}
