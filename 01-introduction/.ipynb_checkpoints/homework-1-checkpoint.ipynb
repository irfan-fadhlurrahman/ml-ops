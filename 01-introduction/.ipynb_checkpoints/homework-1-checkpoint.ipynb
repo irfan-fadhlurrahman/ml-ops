{
 "cells": [
  {
   "cell_type": "markdown",
   "id": "c99a6fea-3f65-4d03-9907-e47aca321ecb",
   "metadata": {},
   "source": [
    "# Homework Module 1\n",
    "The objective of this project is to train a simple model predicting the ride duration of For-Hire Vehicle Trip Records dataset."
   ]
  },
  {
   "cell_type": "markdown",
   "id": "296c576a-6f7c-4cfd-a987-5821638d7def",
   "metadata": {},
   "source": [
    "## Q1. Downloading the data\n",
    "We'll use the same NYC taxi dataset, but instead of \"Green Taxi Trip Records\", we'll use \"For-Hire Vehicle Trip Records\".\n",
    "\n",
    "Download the data for January and February 2021.\n",
    "\n",
    "Note that you need \"For-Hire Vehicle Trip Records\", not \"High Volume For-Hire Vehicle Trip Records\".\n",
    "\n",
    "Read the data for January. How many records are there?\n",
    "\n",
    "* 1054112\n",
    "* **1154112**\n",
    "* 1254112\n",
    "* 1354112"
   ]
  },
  {
   "cell_type": "code",
   "execution_count": 1,
   "id": "9dd7c3a1-fb05-4a62-9e8a-815fcbd7233e",
   "metadata": {},
   "outputs": [],
   "source": [
    "import pandas as pd\n",
    "import numpy as np\n",
    "import matplotlib.pyplot as plt\n",
    "import seaborn as sns\n",
    "import inflection\n",
    "import joblib\n",
    "\n",
    "from sklearn.feature_extraction import DictVectorizer\n",
    "from sklearn.linear_model import LinearRegression\n",
    "from sklearn.metrics import mean_squared_error"
   ]
  },
  {
   "cell_type": "code",
   "execution_count": 2,
   "id": "e9ec37f4-d08e-415d-aaef-0162df895066",
   "metadata": {},
   "outputs": [
    {
     "data": {
      "text/plain": [
       "((1154112, 7), (1037692, 7))"
      ]
     },
     "execution_count": 2,
     "metadata": {},
     "output_type": "execute_result"
    }
   ],
   "source": [
    "def load_dataset(path):\n",
    "    \"\"\"\n",
    "    Return the dataset in pandas dataframe format with lowercase columns\n",
    "    and each column name seperated by underscore.\n",
    "    \n",
    "    Args:\n",
    "    * path, str: file directory or file link of dataset\n",
    "    \n",
    "    Output:\n",
    "    * pd.DataFrame\n",
    "    \n",
    "    Notes:\n",
    "    This function is used to read a parquet format.\n",
    "    If the format is not parquet, change the first line of code.\n",
    "    \n",
    "    \"\"\"\n",
    "    df = pd.read_parquet(path)\n",
    "    df.columns = [inflection.underscore(var) for var in list(df.columns)]    \n",
    "    return df\n",
    "\n",
    "train = load_dataset(\"../dataset/fhv_tripdata_2021-01.parquet\")\n",
    "val = load_dataset(\"../dataset/fhv_tripdata_2021-02.parquet\")\n",
    "train.shape, val.shape"
   ]
  },
  {
   "cell_type": "code",
   "execution_count": 3,
   "id": "14266d81-3d77-40ad-ab41-8ca03f4286c0",
   "metadata": {},
   "outputs": [
    {
     "data": {
      "text/html": [
       "<div>\n",
       "<style scoped>\n",
       "    .dataframe tbody tr th:only-of-type {\n",
       "        vertical-align: middle;\n",
       "    }\n",
       "\n",
       "    .dataframe tbody tr th {\n",
       "        vertical-align: top;\n",
       "    }\n",
       "\n",
       "    .dataframe thead th {\n",
       "        text-align: right;\n",
       "    }\n",
       "</style>\n",
       "<table border=\"1\" class=\"dataframe\">\n",
       "  <thead>\n",
       "    <tr style=\"text-align: right;\">\n",
       "      <th></th>\n",
       "      <th>dispatching_base_num</th>\n",
       "      <th>pickup_datetime</th>\n",
       "      <th>drop_off_datetime</th>\n",
       "      <th>p_ulocation_id</th>\n",
       "      <th>d_olocation_id</th>\n",
       "      <th>sr_flag</th>\n",
       "      <th>affiliated_base_number</th>\n",
       "    </tr>\n",
       "  </thead>\n",
       "  <tbody>\n",
       "    <tr>\n",
       "      <th>1075577</th>\n",
       "      <td>B02794</td>\n",
       "      <td>2021-01-29 13:08:17</td>\n",
       "      <td>2021-01-29 13:39:20</td>\n",
       "      <td>NaN</td>\n",
       "      <td>67.0</td>\n",
       "      <td>None</td>\n",
       "      <td>B00385</td>\n",
       "    </tr>\n",
       "  </tbody>\n",
       "</table>\n",
       "</div>"
      ],
      "text/plain": [
       "        dispatching_base_num     pickup_datetime   drop_off_datetime  \\\n",
       "1075577               B02794 2021-01-29 13:08:17 2021-01-29 13:39:20   \n",
       "\n",
       "         p_ulocation_id  d_olocation_id sr_flag affiliated_base_number  \n",
       "1075577             NaN            67.0    None                 B00385  "
      ]
     },
     "execution_count": 3,
     "metadata": {},
     "output_type": "execute_result"
    }
   ],
   "source": [
    "train.sample()"
   ]
  },
  {
   "cell_type": "markdown",
   "id": "84188602-a3b3-412c-9a19-27b090d6485b",
   "metadata": {},
   "source": [
    "There are **1154112** records in January 2021 dataset."
   ]
  },
  {
   "cell_type": "markdown",
   "id": "51c98fd1-1feb-4d32-9f46-d9dd0edf827b",
   "metadata": {
    "tags": []
   },
   "source": [
    "## Q2. Computing duration\n",
    "Now let's compute the duration variable. It should contain the duration of a ride in minutes.\n",
    "\n",
    "What's the average trip duration in January?\n",
    "\n",
    "* 15.16\n",
    "* **19.16**\n",
    "* 24.16\n",
    "* 29.16"
   ]
  },
  {
   "cell_type": "code",
   "execution_count": 4,
   "id": "3befc430-c030-4ce3-bcc2-9bee99943e70",
   "metadata": {},
   "outputs": [
    {
     "name": "stdout",
     "output_type": "stream",
     "text": [
      "The average trip duration is 19.167 minutes\n"
     ]
    }
   ],
   "source": [
    "def target_variable(df):\n",
    "    \"\"\"\n",
    "    Return the target variable, which in this case is ride duration in minutes.\n",
    "    duration = drop_off_datetime - pickup_datetime.\n",
    "    \n",
    "    Args:\n",
    "    * df, pd.DataFrame: the dataset\n",
    "    \n",
    "    Output:\n",
    "    * pd.DataFrame: contain the target variable\n",
    "    \"\"\"\n",
    "    df['duration'] = df['drop_off_datetime'] - df['pickup_datetime']\n",
    "    df['duration'] = df['duration'].dt.total_seconds() / 60\n",
    "    return df\n",
    "\n",
    "train = target_variable(train)\n",
    "val = target_variable(val)\n",
    "\n",
    "print(f\"The average trip duration is {train['duration'].mean():.3f} minutes\")"
   ]
  },
  {
   "cell_type": "markdown",
   "id": "e378d4d6-a86b-4a52-b318-ae1eefb9c204",
   "metadata": {},
   "source": [
    "## Data preparation\n",
    "Check the distribution of the duration variable. There are some outliers.\n",
    "\n",
    "Let's remove them and keep only the records where the duration was between 1 and 60 minutes (inclusive).\n",
    "\n",
    "How many records did you drop?"
   ]
  },
  {
   "cell_type": "code",
   "execution_count": 5,
   "id": "170946e8-2a9d-4cf7-a491-2cbf0b0d639a",
   "metadata": {},
   "outputs": [
    {
     "data": {
      "text/plain": [
       "<AxesSubplot:>"
      ]
     },
     "execution_count": 5,
     "metadata": {},
     "output_type": "execute_result"
    },
    {
     "data": {
      "image/png": "[encoded data removed]",
      "text/plain": [
       "<Figure size 432x288 with 1 Axes>"
      ]
     },
     "metadata": {
      "needs_background": "light"
     },
     "output_type": "display_data"
    }
   ],
   "source": [
    "train['duration'].hist()"
   ]
  },
  {
   "cell_type": "code",
   "execution_count": 6,
   "id": "3250aea9-9f51-47c5-945c-4378413bd1c8",
   "metadata": {},
   "outputs": [
    {
     "name": "stdout",
     "output_type": "stream",
     "text": [
      "Total number of dropped records: 44286 rows\n"
     ]
    }
   ],
   "source": [
    "train_new = train[(train['duration'] >= 1) & (train['duration'] <= 60)].copy()\n",
    "val_new = val[(val['duration'] >= 1) & (val['duration'] <= 60)].copy()\n",
    "\n",
    "print(f\"Total number of dropped records: {train.shape[0] - train_new.shape[0]} rows\")"
   ]
  },
  {
   "cell_type": "markdown",
   "id": "91be401c-dcf1-40e5-a7f7-f739c4537834",
   "metadata": {},
   "source": [
    "## Q3. Missing values\n",
    "The features we'll use for our model are the pickup and dropoff location IDs.\n",
    "\n",
    "But they have a lot of missing values there. Let's replace them with \"-1\".\n",
    "\n",
    "What's the fractions of missing values for the pickup location ID? I.e. fraction of \"-1\"s after you filled the NAs.\n",
    "\n",
    "* 53%\n",
    "* 63%\n",
    "* 73%\n",
    "* **83%**"
   ]
  },
  {
   "cell_type": "code",
   "execution_count": 7,
   "id": "a0424b56-5ee6-4776-a34c-b0fef938f1eb",
   "metadata": {},
   "outputs": [
    {
     "name": "stdout",
     "output_type": "stream",
     "text": [
      "fractions of missing values for the pickup location ID: 83.53%\n"
     ]
    }
   ],
   "source": [
    "train_new['p_ulocation_id'] = train_new['p_ulocation_id'].fillna(-1)\n",
    "train_new['d_olocation_id'] = train_new['d_olocation_id'].fillna(-1)\n",
    "\n",
    "val_new['p_ulocation_id'] = val_new['p_ulocation_id'].fillna(-1)\n",
    "val_new['d_olocation_id'] = val_new['d_olocation_id'].fillna(-1)\n",
    "\n",
    "missing_val = train_new['p_ulocation_id'][train_new['p_ulocation_id'] == -1]\n",
    "print(f\"fractions of missing values for the pickup location ID: {100 * missing_val.shape[0] / train_new['p_ulocation_id'].shape[0]:.2f}%\")"
   ]
  },
  {
   "cell_type": "markdown",
   "id": "fcd0f23f-bb59-4c50-afc6-03aa5bdfad5c",
   "metadata": {},
   "source": [
    "## Q4. One-hot encoding\n",
    "Let's apply one-hot encoding to the pickup and dropoff location IDs. We'll use only these two features for our model.\n",
    "\n",
    "* Turn the dataframe into a list of dictionaries\n",
    "* Fit a dictionary vectorizer\n",
    "* Get a feature matrix from it\n",
    "\n",
    "What's the dimensionality of this matrix? (The number of columns).\n",
    "\n",
    "* 2\n",
    "* 152\n",
    "* 352\n",
    "* **525**\n",
    "* 725"
   ]
  },
  {
   "cell_type": "code",
   "execution_count": 8,
   "id": "a26933b9-7a36-47a6-a0a1-11299fd9c2df",
   "metadata": {},
   "outputs": [
    {
     "data": {
      "text/plain": [
       "(1109826, 525)"
      ]
     },
     "execution_count": 8,
     "metadata": {},
     "output_type": "execute_result"
    }
   ],
   "source": [
    "X_train = train_new[['p_ulocation_id', 'd_olocation_id']].astype(str).copy()\n",
    "X_val = val_new[['p_ulocation_id', 'd_olocation_id']].astype(str).copy()\n",
    "\n",
    "X_train = X_train.to_dict(orient='records')\n",
    "X_val = X_val.to_dict(orient='records')\n",
    "\n",
    "dt = DictVectorizer()\n",
    "X_train = dt.fit_transform(X_train)\n",
    "X_val = dt.transform(X_val)\n",
    "\n",
    "y_train = train_new['duration'].values\n",
    "y_val = val_new['duration'].values\n",
    "\n",
    "X_train.shape"
   ]
  },
  {
   "cell_type": "markdown",
   "id": "86c74f54-1827-4e9e-a05b-00f8a5560da7",
   "metadata": {},
   "source": [
    "The dimensionality of this matrix: **525 columns**"
   ]
  },
  {
   "cell_type": "markdown",
   "id": "4640ea88-10c7-4b2a-857c-f4dbf5a9afed",
   "metadata": {},
   "source": [
    "## Q5. Training a model\n",
    "Now let's use the feature matrix from the previous step to train a model.\n",
    "\n",
    "Train a plain linear regression model with default parameters\n",
    "Calculate the RMSE of the model on the training data\n",
    "What's the RMSE on train?\n",
    "\n",
    "* 5.52\n",
    "* **10.52**\n",
    "* 15.52\n",
    "* 20.52"
   ]
  },
  {
   "cell_type": "code",
   "execution_count": 9,
   "id": "89daafc3-b94c-42d2-bae5-61b321952f8f",
   "metadata": {},
   "outputs": [
    {
     "name": "stdout",
     "output_type": "stream",
     "text": [
      "RMSE of the model on the training data: 10.53\n"
     ]
    }
   ],
   "source": [
    "reg = LinearRegression()\n",
    "reg.fit(X_train, y_train)\n",
    "\n",
    "y_pred_train = reg.predict(X_train)\n",
    "rmse = mean_squared_error(y_train, y_pred_train, squared=False)\n",
    "print(f\"RMSE of the model on the training data: {rmse:.2f}\")"
   ]
  },
  {
   "cell_type": "markdown",
   "id": "4cacef4d-87e1-42e2-a577-db449404a13b",
   "metadata": {},
   "source": [
    "## Q6. Evaluating the model\n",
    "Now let's apply this model to the validation dataset (Feb 2021).\n",
    "\n",
    "What's the RMSE on validation?\n",
    "\n",
    "* 6.01\n",
    "* **11.01**\n",
    "* 16.01\n",
    "* 21.01"
   ]
  },
  {
   "cell_type": "code",
   "execution_count": 10,
   "id": "870128d8-7695-42cf-b757-265b9dedacf9",
   "metadata": {},
   "outputs": [
    {
     "name": "stdout",
     "output_type": "stream",
     "text": [
      "RMSE of the model on the validation data: 11.01\n"
     ]
    }
   ],
   "source": [
    "y_pred_val = reg.predict(X_val)\n",
    "rmse = mean_squared_error(y_val, y_pred_val, squared=False)\n",
    "print(f\"RMSE of the model on the validation data: {rmse:.2f}\")"
   ]
  }
 ],
 "metadata": {
  "kernelspec": {
   "display_name": "Python 3 (ipykernel)",
   "language": "python",
   "name": "python3"
  },
  "language_info": {
   "codemirror_mode": {
    "name": "ipython",
    "version": 3
   },
   "file_extension": ".py",
   "mimetype": "text/x-python",
   "name": "python",
   "nbconvert_exporter": "python",
   "pygments_lexer": "ipython3",
   "version": "3.9.7"
  }
 },
 "nbformat": 4,
 "nbformat_minor": 5
}
